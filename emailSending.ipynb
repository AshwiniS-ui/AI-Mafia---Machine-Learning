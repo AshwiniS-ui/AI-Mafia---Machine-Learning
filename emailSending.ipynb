{
 "cells": [
  {
   "cell_type": "code",
   "execution_count": 3,
   "id": "42885d0c",
   "metadata": {},
   "outputs": [
    {
     "name": "stdout",
     "output_type": "stream",
     "text": [
      "········\n",
      "shiva@12345\n",
      "········\n"
     ]
    }
   ],
   "source": [
    "import smtplib\n",
    "import getpass\n",
    "\n",
    "from email.mime.text import MIMEText\n",
    "\n",
    "password = getpass.getpass()\n",
    "print(password)\n",
    "\n",
    "def send_email():\n",
    "    sender_address = 'ashwinis9632@gmail.com'\n",
    "    password = getpass.getpass()\n",
    "    subject = 'AI Mafia - Machine Learning'\n",
    "    msg = '''\n",
    "          Hello Everyone!\n",
    "          \n",
    "          WELCOME HERE..\n",
    "          \n",
    "          Regards\n",
    "          Ashwini S\n",
    "          \n",
    "          \n",
    "          '''\n",
    "    #server initialization\n",
    "    server = smtplib.SMTP('smtp.gmail.com',587)\n",
    "    server.starttls()\n",
    "    server.login(sender_address,password)\n",
    "\n",
    "    #draft my message body\n",
    "    msg = MIMEText(msg)\n",
    "    msg['Subject']=subject\n",
    "    msg['From']=sender_address\n",
    "    msg['To']='ashwinis9632@gmail.com'\n",
    "    msg.set_param('importance','high value')\n",
    "    recipients = 'ashwinis9632@gmail.com'\n",
    "    server.sendmail(sender_address,recipients,msg.as_string())\n",
    "\n",
    "\n",
    "send_email()\n"
   ]
  },
  {
   "cell_type": "code",
   "execution_count": null,
   "id": "4be95c5f",
   "metadata": {},
   "outputs": [],
   "source": []
  }
 ],
 "metadata": {
  "kernelspec": {
   "display_name": "Python 3",
   "language": "python",
   "name": "python3"
  },
  "language_info": {
   "codemirror_mode": {
    "name": "ipython",
    "version": 3
   },
   "file_extension": ".py",
   "mimetype": "text/x-python",
   "name": "python",
   "nbconvert_exporter": "python",
   "pygments_lexer": "ipython3",
   "version": "3.8.8"
  }
 },
 "nbformat": 4,
 "nbformat_minor": 5
}
