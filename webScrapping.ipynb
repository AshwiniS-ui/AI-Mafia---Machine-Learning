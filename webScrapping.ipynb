{
 "cells": [
  {
   "cell_type": "markdown",
   "id": "e51324a9",
   "metadata": {},
   "source": [
    "# WebScraping\n"
   ]
  },
  {
   "cell_type": "markdown",
   "id": "d996cd4f",
   "metadata": {},
   "source": [
    "To extract useful information from website(to download img,text ect..)"
   ]
  },
  {
   "cell_type": "code",
   "execution_count": 1,
   "id": "34d1a487",
   "metadata": {},
   "outputs": [],
   "source": [
    "#scraping Considerations\n",
    "# -Check sites terms and conditions - amazon\n",
    "# -are you going to do the DOS Attacks - Space out your requests\n",
    "# -keep a check on your scrapers\n",
    "# -clean up your data, preprocessing data contract \n",
    "# -configure your scrapper"
   ]
  },
  {
   "cell_type": "code",
   "execution_count": 2,
   "id": "a1511e0d",
   "metadata": {},
   "outputs": [],
   "source": [
    "#3 modules are using here:-\n",
    "#BeautifulSoup\n",
    "#lxml parser\n",
    "#requests"
   ]
  },
  {
   "cell_type": "code",
   "execution_count": 3,
   "id": "a9073697",
   "metadata": {},
   "outputs": [],
   "source": [
    "from bs4 import BeautifulSoup #it allows you to scrap a website\n",
    "import requests\n",
    "import pandas as pd#used to store information\n",
    "from pandas import Series, DataFrame"
   ]
  },
  {
   "cell_type": "code",
   "execution_count": 4,
   "id": "8eda9a30",
   "metadata": {},
   "outputs": [],
   "source": [
    "url = 'https://www.studentnewsdaily.com/archive/daily-news-article/'"
   ]
  },
  {
   "cell_type": "code",
   "execution_count": 7,
   "id": "596039aa",
   "metadata": {},
   "outputs": [],
   "source": [
    "#1. Call the API Server using requests module\n",
    "result = requests.get(url)\n",
    "soup = BeautifulSoup(result.content,'lxml')"
   ]
  },
  {
   "cell_type": "code",
   "execution_count": 37,
   "id": "517304eb",
   "metadata": {},
   "outputs": [],
   "source": [
    "content = soup.findAll('section') #find the first occurrence"
   ]
  },
  {
   "cell_type": "code",
   "execution_count": 36,
   "id": "cf4e83f7",
   "metadata": {},
   "outputs": [],
   "source": [
    "summary = content[1].find(class_='col-md-10 col-lg-10 col-xl-10')"
   ]
  },
  {
   "cell_type": "code",
   "execution_count": 32,
   "id": "64cd593a",
   "metadata": {},
   "outputs": [],
   "source": [
    "l = summary.findAll('h4')"
   ]
  },
  {
   "cell_type": "code",
   "execution_count": 33,
   "id": "6f9ef4c4",
   "metadata": {},
   "outputs": [],
   "source": [
    "series = [ele.get_text() for ele in l]"
   ]
  },
  {
   "cell_type": "code",
   "execution_count": 40,
   "id": "b749379c",
   "metadata": {},
   "outputs": [
    {
     "name": "stdout",
     "output_type": "stream",
     "text": [
      "['September 2021', 'June 2021', 'May 2021', 'April 2021', 'March 2021', 'February 2021', 'January 2021', 'December 2020', 'November 2020', 'October 2020', 'September 2020', 'May 2020', 'April 2020', 'March 2020', 'February 2020', 'January 2020', 'December 2019', 'November 2019', 'October 2019', 'September 2019', 'May 2019', 'April 2019', 'March 2019', 'February 2019', 'January 2019', 'December 2018', 'November 2018', 'October 2018', 'September 2018', 'June 2018', 'May 2018', 'April 2018', 'March 2018', 'February 2018']\n"
     ]
    }
   ],
   "source": [
    "print(series)"
   ]
  },
  {
   "cell_type": "code",
   "execution_count": null,
   "id": "f4ed7490",
   "metadata": {},
   "outputs": [],
   "source": []
  }
 ],
 "metadata": {
  "kernelspec": {
   "display_name": "Python 3",
   "language": "python",
   "name": "python3"
  },
  "language_info": {
   "codemirror_mode": {
    "name": "ipython",
    "version": 3
   },
   "file_extension": ".py",
   "mimetype": "text/x-python",
   "name": "python",
   "nbconvert_exporter": "python",
   "pygments_lexer": "ipython3",
   "version": "3.8.8"
  }
 },
 "nbformat": 4,
 "nbformat_minor": 5
}
